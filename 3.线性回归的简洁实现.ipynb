{
 "cells": [
  {
   "cell_type": "markdown",
   "metadata": {},
   "source": [
    "# 3.线性回归的简洁实现\n",
    "## 3.1 导入模块"
   ]
  },
  {
   "cell_type": "code",
   "execution_count": 1,
   "metadata": {},
   "outputs": [
    {
     "name": "stdout",
     "output_type": "stream",
     "text": [
      "Requirement already satisfied: d2l in d:\\anaconda\\envs\\pytorch\\lib\\site-packages (0.17.0)\n",
      "Requirement already satisfied: pandas in d:\\anaconda\\envs\\pytorch\\lib\\site-packages (from d2l) (1.1.5)\n",
      "Requirement already satisfied: requests in d:\\anaconda\\envs\\pytorch\\lib\\site-packages (from d2l) (2.28.1)\n",
      "Requirement already satisfied: matplotlib in d:\\anaconda\\envs\\pytorch\\lib\\site-packages (from d2l) (3.5.3)\n",
      "Requirement already satisfied: jupyter in d:\\anaconda\\envs\\pytorch\\lib\\site-packages (from d2l) (1.0.0)\n",
      "Requirement already satisfied: numpy in d:\\anaconda\\envs\\pytorch\\lib\\site-packages (from d2l) (1.21.6)\n",
      "Requirement already satisfied: jupyter-console in d:\\anaconda\\envs\\pytorch\\lib\\site-packages (from jupyter->d2l) (6.4.4)\n",
      "Requirement already satisfied: ipywidgets in d:\\anaconda\\envs\\pytorch\\lib\\site-packages (from jupyter->d2l) (8.0.2)\n",
      "Requirement already satisfied: nbconvert in d:\\anaconda\\envs\\pytorch\\lib\\site-packages (from jupyter->d2l) (7.2.5)\n",
      "Requirement already satisfied: notebook in d:\\anaconda\\envs\\pytorch\\lib\\site-packages (from jupyter->d2l) (6.5.2)\n",
      "Requirement already satisfied: qtconsole in d:\\anaconda\\envs\\pytorch\\lib\\site-packages (from jupyter->d2l) (5.4.0)\n",
      "Requirement already satisfied: ipykernel in d:\\anaconda\\envs\\pytorch\\lib\\site-packages (from jupyter->d2l) (6.17.1)\n",
      "Requirement already satisfied: pyparsing>=2.2.1 in d:\\anaconda\\envs\\pytorch\\lib\\site-packages (from matplotlib->d2l) (3.0.9)\n",
      "Requirement already satisfied: fonttools>=4.22.0 in d:\\anaconda\\envs\\pytorch\\lib\\site-packages (from matplotlib->d2l) (4.38.0)\n",
      "Requirement already satisfied: packaging>=20.0 in d:\\anaconda\\envs\\pytorch\\lib\\site-packages (from matplotlib->d2l) (21.3)\n",
      "Requirement already satisfied: pillow>=6.2.0 in d:\\anaconda\\envs\\pytorch\\lib\\site-packages (from matplotlib->d2l) (9.3.0)\n",
      "Requirement already satisfied: python-dateutil>=2.7 in d:\\anaconda\\envs\\pytorch\\lib\\site-packages (from matplotlib->d2l) (2.8.2)\n",
      "Requirement already satisfied: kiwisolver>=1.0.1 in d:\\anaconda\\envs\\pytorch\\lib\\site-packages (from matplotlib->d2l) (1.4.4)\n",
      "Requirement already satisfied: cycler>=0.10 in d:\\anaconda\\envs\\pytorch\\lib\\site-packages (from matplotlib->d2l) (0.11.0)\n",
      "Requirement already satisfied: pytz>=2017.2 in d:\\anaconda\\envs\\pytorch\\lib\\site-packages (from pandas->d2l) (2022.6)\n",
      "Requirement already satisfied: idna<4,>=2.5 in d:\\anaconda\\envs\\pytorch\\lib\\site-packages (from requests->d2l) (3.4)\n",
      "Requirement already satisfied: urllib3<1.27,>=1.21.1 in d:\\anaconda\\envs\\pytorch\\lib\\site-packages (from requests->d2l) (1.26.12)\n",
      "Requirement already satisfied: charset-normalizer<3,>=2 in d:\\anaconda\\envs\\pytorch\\lib\\site-packages (from requests->d2l) (2.1.1)\n",
      "Requirement already satisfied: certifi>=2017.4.17 in d:\\anaconda\\envs\\pytorch\\lib\\site-packages (from requests->d2l) (2022.9.24)\n",
      "Requirement already satisfied: typing-extensions in d:\\anaconda\\envs\\pytorch\\lib\\site-packages (from kiwisolver>=1.0.1->matplotlib->d2l) (4.4.0)\n",
      "Requirement already satisfied: six>=1.5 in d:\\anaconda\\envs\\pytorch\\lib\\site-packages (from python-dateutil>=2.7->matplotlib->d2l) (1.16.0)\n",
      "Requirement already satisfied: ipython>=7.23.1 in d:\\anaconda\\envs\\pytorch\\lib\\site-packages (from ipykernel->jupyter->d2l) (7.34.0)\n",
      "Requirement already satisfied: matplotlib-inline>=0.1 in d:\\anaconda\\envs\\pytorch\\lib\\site-packages (from ipykernel->jupyter->d2l) (0.1.6)\n",
      "Requirement already satisfied: jupyter-client>=6.1.12 in d:\\anaconda\\envs\\pytorch\\lib\\site-packages (from ipykernel->jupyter->d2l) (7.4.7)\n",
      "Requirement already satisfied: debugpy>=1.0 in d:\\anaconda\\envs\\pytorch\\lib\\site-packages (from ipykernel->jupyter->d2l) (1.6.3)\n",
      "Requirement already satisfied: tornado>=6.1 in d:\\anaconda\\envs\\pytorch\\lib\\site-packages (from ipykernel->jupyter->d2l) (6.2)\n",
      "Requirement already satisfied: traitlets>=5.1.0 in d:\\anaconda\\envs\\pytorch\\lib\\site-packages (from ipykernel->jupyter->d2l) (5.5.0)\n",
      "Requirement already satisfied: pyzmq>=17 in d:\\anaconda\\envs\\pytorch\\lib\\site-packages (from ipykernel->jupyter->d2l) (24.0.1)\n",
      "Requirement already satisfied: psutil in d:\\anaconda\\envs\\pytorch\\lib\\site-packages (from ipykernel->jupyter->d2l) (5.9.4)\n",
      "Requirement already satisfied: nest-asyncio in d:\\anaconda\\envs\\pytorch\\lib\\site-packages (from ipykernel->jupyter->d2l) (1.5.6)\n",
      "Requirement already satisfied: jupyterlab-widgets~=3.0 in d:\\anaconda\\envs\\pytorch\\lib\\site-packages (from ipywidgets->jupyter->d2l) (3.0.3)\n",
      "Requirement already satisfied: widgetsnbextension~=4.0 in d:\\anaconda\\envs\\pytorch\\lib\\site-packages (from ipywidgets->jupyter->d2l) (4.0.3)\n",
      "Requirement already satisfied: prompt-toolkit!=3.0.0,!=3.0.1,<3.1.0,>=2.0.0 in d:\\anaconda\\envs\\pytorch\\lib\\site-packages (from jupyter-console->jupyter->d2l) (3.0.32)\n",
      "Requirement already satisfied: pygments in d:\\anaconda\\envs\\pytorch\\lib\\site-packages (from jupyter-console->jupyter->d2l) (2.13.0)\n",
      "Requirement already satisfied: mistune<3,>=2.0.3 in d:\\anaconda\\envs\\pytorch\\lib\\site-packages (from nbconvert->jupyter->d2l) (2.0.4)\n",
      "Requirement already satisfied: nbclient>=0.5.0 in d:\\anaconda\\envs\\pytorch\\lib\\site-packages (from nbconvert->jupyter->d2l) (0.7.0)\n",
      "Requirement already satisfied: jupyter-core>=4.7 in d:\\anaconda\\envs\\pytorch\\lib\\site-packages (from nbconvert->jupyter->d2l) (4.11.2)\n",
      "Requirement already satisfied: bleach in d:\\anaconda\\envs\\pytorch\\lib\\site-packages (from nbconvert->jupyter->d2l) (5.0.1)\n",
      "Requirement already satisfied: importlib-metadata>=3.6 in d:\\anaconda\\envs\\pytorch\\lib\\site-packages (from nbconvert->jupyter->d2l) (5.0.0)\n",
      "Requirement already satisfied: nbformat>=5.1 in d:\\anaconda\\envs\\pytorch\\lib\\site-packages (from nbconvert->jupyter->d2l) (5.7.0)\n",
      "Requirement already satisfied: defusedxml in d:\\anaconda\\envs\\pytorch\\lib\\site-packages (from nbconvert->jupyter->d2l) (0.7.1)\n",
      "Requirement already satisfied: jupyterlab-pygments in d:\\anaconda\\envs\\pytorch\\lib\\site-packages (from nbconvert->jupyter->d2l) (0.2.2)\n",
      "Requirement already satisfied: jinja2>=3.0 in d:\\anaconda\\envs\\pytorch\\lib\\site-packages (from nbconvert->jupyter->d2l) (3.1.2)\n",
      "Requirement already satisfied: markupsafe>=2.0 in d:\\anaconda\\envs\\pytorch\\lib\\site-packages (from nbconvert->jupyter->d2l) (2.1.1)\n",
      "Requirement already satisfied: beautifulsoup4 in d:\\anaconda\\envs\\pytorch\\lib\\site-packages (from nbconvert->jupyter->d2l) (4.11.1)\n",
      "Requirement already satisfied: tinycss2 in d:\\anaconda\\envs\\pytorch\\lib\\site-packages (from nbconvert->jupyter->d2l) (1.2.1)\n",
      "Requirement already satisfied: pandocfilters>=1.4.1 in d:\\anaconda\\envs\\pytorch\\lib\\site-packages (from nbconvert->jupyter->d2l) (1.5.0)\n",
      "Requirement already satisfied: argon2-cffi in d:\\anaconda\\envs\\pytorch\\lib\\site-packages (from notebook->jupyter->d2l) (21.3.0)\n",
      "Requirement already satisfied: ipython-genutils in d:\\anaconda\\envs\\pytorch\\lib\\site-packages (from notebook->jupyter->d2l) (0.2.0)\n",
      "Requirement already satisfied: Send2Trash>=1.8.0 in d:\\anaconda\\envs\\pytorch\\lib\\site-packages (from notebook->jupyter->d2l) (1.8.0)\n",
      "Requirement already satisfied: terminado>=0.8.3 in d:\\anaconda\\envs\\pytorch\\lib\\site-packages (from notebook->jupyter->d2l) (0.17.0)\n",
      "Requirement already satisfied: prometheus-client in d:\\anaconda\\envs\\pytorch\\lib\\site-packages (from notebook->jupyter->d2l) (0.15.0)\n",
      "Requirement already satisfied: nbclassic>=0.4.7 in d:\\anaconda\\envs\\pytorch\\lib\\site-packages (from notebook->jupyter->d2l) (0.4.8)\n",
      "Requirement already satisfied: qtpy>=2.0.1 in d:\\anaconda\\envs\\pytorch\\lib\\site-packages (from qtconsole->jupyter->d2l) (2.3.0)\n",
      "Requirement already satisfied: zipp>=0.5 in d:\\anaconda\\envs\\pytorch\\lib\\site-packages (from importlib-metadata>=3.6->nbconvert->jupyter->d2l) (3.10.0)\n",
      "Requirement already satisfied: setuptools>=18.5 in d:\\anaconda\\envs\\pytorch\\lib\\site-packages (from ipython>=7.23.1->ipykernel->jupyter->d2l) (65.5.1)\n",
      "Requirement already satisfied: backcall in d:\\anaconda\\envs\\pytorch\\lib\\site-packages (from ipython>=7.23.1->ipykernel->jupyter->d2l) (0.2.0)\n",
      "Requirement already satisfied: pickleshare in d:\\anaconda\\envs\\pytorch\\lib\\site-packages (from ipython>=7.23.1->ipykernel->jupyter->d2l) (0.7.5)\n",
      "Requirement already satisfied: decorator in d:\\anaconda\\envs\\pytorch\\lib\\site-packages (from ipython>=7.23.1->ipykernel->jupyter->d2l) (5.1.1)\n",
      "Requirement already satisfied: colorama in d:\\anaconda\\envs\\pytorch\\lib\\site-packages (from ipython>=7.23.1->ipykernel->jupyter->d2l) (0.4.6)\n",
      "Requirement already satisfied: jedi>=0.16 in d:\\anaconda\\envs\\pytorch\\lib\\site-packages (from ipython>=7.23.1->ipykernel->jupyter->d2l) (0.18.1)\n",
      "Requirement already satisfied: entrypoints in d:\\anaconda\\envs\\pytorch\\lib\\site-packages (from jupyter-client>=6.1.12->ipykernel->jupyter->d2l) (0.4)\n",
      "Requirement already satisfied: pywin32>=1.0 in d:\\anaconda\\envs\\pytorch\\lib\\site-packages (from jupyter-core>=4.7->nbconvert->jupyter->d2l) (305)\n",
      "Requirement already satisfied: notebook-shim>=0.1.0 in d:\\anaconda\\envs\\pytorch\\lib\\site-packages (from nbclassic>=0.4.7->notebook->jupyter->d2l) (0.2.2)\n",
      "Requirement already satisfied: jupyter-server>=1.8 in d:\\anaconda\\envs\\pytorch\\lib\\site-packages (from nbclassic>=0.4.7->notebook->jupyter->d2l) (1.23.2)\n",
      "Requirement already satisfied: fastjsonschema in d:\\anaconda\\envs\\pytorch\\lib\\site-packages (from nbformat>=5.1->nbconvert->jupyter->d2l) (2.16.2)\n",
      "Requirement already satisfied: jsonschema>=2.6 in d:\\anaconda\\envs\\pytorch\\lib\\site-packages (from nbformat>=5.1->nbconvert->jupyter->d2l) (4.17.0)\n",
      "Requirement already satisfied: wcwidth in d:\\anaconda\\envs\\pytorch\\lib\\site-packages (from prompt-toolkit!=3.0.0,!=3.0.1,<3.1.0,>=2.0.0->jupyter-console->jupyter->d2l) (0.2.5)\n",
      "Requirement already satisfied: pywinpty>=1.1.0 in d:\\anaconda\\envs\\pytorch\\lib\\site-packages (from terminado>=0.8.3->notebook->jupyter->d2l) (2.0.9)\n",
      "Requirement already satisfied: argon2-cffi-bindings in d:\\anaconda\\envs\\pytorch\\lib\\site-packages (from argon2-cffi->notebook->jupyter->d2l) (21.2.0)\n",
      "Requirement already satisfied: soupsieve>1.2 in d:\\anaconda\\envs\\pytorch\\lib\\site-packages (from beautifulsoup4->nbconvert->jupyter->d2l) (2.3.2.post1)\n",
      "Requirement already satisfied: webencodings in d:\\anaconda\\envs\\pytorch\\lib\\site-packages (from bleach->nbconvert->jupyter->d2l) (0.5.1)\n",
      "Requirement already satisfied: parso<0.9.0,>=0.8.0 in d:\\anaconda\\envs\\pytorch\\lib\\site-packages (from jedi>=0.16->ipython>=7.23.1->ipykernel->jupyter->d2l) (0.8.3)\n",
      "Requirement already satisfied: importlib-resources>=1.4.0 in d:\\anaconda\\envs\\pytorch\\lib\\site-packages (from jsonschema>=2.6->nbformat>=5.1->nbconvert->jupyter->d2l) (5.10.0)\n",
      "Requirement already satisfied: pkgutil-resolve-name>=1.3.10 in d:\\anaconda\\envs\\pytorch\\lib\\site-packages (from jsonschema>=2.6->nbformat>=5.1->nbconvert->jupyter->d2l) (1.3.10)\n",
      "Requirement already satisfied: pyrsistent!=0.17.0,!=0.17.1,!=0.17.2,>=0.14.0 in d:\\anaconda\\envs\\pytorch\\lib\\site-packages (from jsonschema>=2.6->nbformat>=5.1->nbconvert->jupyter->d2l) (0.19.2)\n",
      "Requirement already satisfied: attrs>=17.4.0 in d:\\anaconda\\envs\\pytorch\\lib\\site-packages (from jsonschema>=2.6->nbformat>=5.1->nbconvert->jupyter->d2l) (22.1.0)\n",
      "Requirement already satisfied: websocket-client in d:\\anaconda\\envs\\pytorch\\lib\\site-packages (from jupyter-server>=1.8->nbclassic>=0.4.7->notebook->jupyter->d2l) (1.4.2)\n",
      "Requirement already satisfied: anyio<4,>=3.1.0 in d:\\anaconda\\envs\\pytorch\\lib\\site-packages (from jupyter-server>=1.8->nbclassic>=0.4.7->notebook->jupyter->d2l) (3.6.2)\n",
      "Requirement already satisfied: cffi>=1.0.1 in d:\\anaconda\\envs\\pytorch\\lib\\site-packages (from argon2-cffi-bindings->argon2-cffi->notebook->jupyter->d2l) (1.15.1)\n",
      "Requirement already satisfied: sniffio>=1.1 in d:\\anaconda\\envs\\pytorch\\lib\\site-packages (from anyio<4,>=3.1.0->jupyter-server>=1.8->nbclassic>=0.4.7->notebook->jupyter->d2l) (1.3.0)\n",
      "Requirement already satisfied: pycparser in d:\\anaconda\\envs\\pytorch\\lib\\site-packages (from cffi>=1.0.1->argon2-cffi-bindings->argon2-cffi->notebook->jupyter->d2l) (2.21)\n"
     ]
    },
    {
     "name": "stderr",
     "output_type": "stream",
     "text": [
      "WARNING: Ignoring invalid distribution -umpy (d:\\anaconda\\envs\\pytorch\\lib\\site-packages)\n",
      "WARNING: Ignoring invalid distribution -orch (d:\\anaconda\\envs\\pytorch\\lib\\site-packages)\n",
      "WARNING: Ignoring invalid distribution -umpy (d:\\anaconda\\envs\\pytorch\\lib\\site-packages)\n",
      "WARNING: Ignoring invalid distribution -orch (d:\\anaconda\\envs\\pytorch\\lib\\site-packages)\n",
      "WARNING: Ignoring invalid distribution -umpy (d:\\anaconda\\envs\\pytorch\\lib\\site-packages)\n",
      "WARNING: Ignoring invalid distribution -orch (d:\\anaconda\\envs\\pytorch\\lib\\site-packages)\n",
      "WARNING: Ignoring invalid distribution -umpy (d:\\anaconda\\envs\\pytorch\\lib\\site-packages)\n",
      "WARNING: Ignoring invalid distribution -orch (d:\\anaconda\\envs\\pytorch\\lib\\site-packages)\n",
      "WARNING: Ignoring invalid distribution -umpy (d:\\anaconda\\envs\\pytorch\\lib\\site-packages)\n",
      "WARNING: Ignoring invalid distribution -orch (d:\\anaconda\\envs\\pytorch\\lib\\site-packages)\n",
      "WARNING: Ignoring invalid distribution -umpy (d:\\anaconda\\envs\\pytorch\\lib\\site-packages)\n",
      "WARNING: Ignoring invalid distribution -orch (d:\\anaconda\\envs\\pytorch\\lib\\site-packages)\n"
     ]
    }
   ],
   "source": [
    "!pip install d2l"
   ]
  },
  {
   "cell_type": "code",
   "execution_count": 2,
   "metadata": {},
   "outputs": [],
   "source": [
    "import numpy as np\n",
    "import torch\n",
    "import matplotlib.pyplot as plt\n",
    "from torch.utils import data\n",
    "from d2l import torch as d2l      \n"
   ]
  },
  {
   "cell_type": "markdown",
   "metadata": {},
   "source": [
    "## 3.2 生成数据集\n"
   ]
  },
  {
   "cell_type": "code",
   "execution_count": 3,
   "metadata": {},
   "outputs": [],
   "source": [
    "true_w = torch.tensor([2, -3.4])\n",
    "true_b = 4.2\n",
    "features, labels = d2l.synthetic_data(true_w, true_b, 1000)"
   ]
  },
  {
   "cell_type": "markdown",
   "metadata": {},
   "source": [
    "## 3.3 读取数据集\n"
   ]
  },
  {
   "cell_type": "code",
   "execution_count": 5,
   "metadata": {},
   "outputs": [
    {
     "data": {
      "text/plain": [
       "[tensor([[ 0.0565,  0.3121],\n",
       "         [ 3.0707, -0.9777],\n",
       "         [ 1.2180,  0.4691],\n",
       "         [ 2.3194,  0.2533],\n",
       "         [ 0.2771,  1.1273],\n",
       "         [-1.2179,  0.3388],\n",
       "         [ 0.8401, -0.0738],\n",
       "         [ 1.6606,  0.3701],\n",
       "         [-0.2262, -0.3793],\n",
       "         [-0.3632, -0.9301]]),\n",
       " tensor([[ 3.2508],\n",
       "         [13.6618],\n",
       "         [ 5.0292],\n",
       "         [ 7.9879],\n",
       "         [ 0.9247],\n",
       "         [ 0.6017],\n",
       "         [ 6.1367],\n",
       "         [ 6.2495],\n",
       "         [ 5.0413],\n",
       "         [ 6.6368]])]"
      ]
     },
     "execution_count": 5,
     "metadata": {},
     "output_type": "execute_result"
    }
   ],
   "source": [
    "def load_array(data_arrays, batch_size, is_train=True): \n",
    "    \"\"\"构造一个PyTorch数据迭代器\"\"\"\n",
    "    dataset = data.TensorDataset(*data_arrays)\n",
    "    return data.DataLoader(dataset, batch_size, shuffle=is_train)\n",
    "\n",
    "batch_size = 10\n",
    "data_iter = load_array((features, labels), batch_size)\n",
    "\n",
    "next(iter(data_iter))"
   ]
  },
  {
   "cell_type": "markdown",
   "metadata": {},
   "source": [
    "## 3.4 定义模型\n",
    "使用框架的预定义好的层。首先导入nn模块（神经网络的缩写），定义一个模型变量net，它是一个Sequential类的实例。 Sequential类将多个层串联在一起。 当给定输入数据时，Sequential实例将数据传入到第一层， 然后将第一层的输出作为第二层的输入，以此类推。 "
   ]
  },
  {
   "cell_type": "code",
   "execution_count": 6,
   "metadata": {},
   "outputs": [],
   "source": [
    "from torch import nn\n",
    "\n",
    "net = nn.Sequential(nn.Linear(2, 1)) # 第一个指定输入特征形状，即2，第二个指定输出特征形状，输出特征形状为单个标量，因此为1。"
   ]
  },
  {
   "cell_type": "markdown",
   "metadata": {},
   "source": [
    "## 3.5 初始化模型参数\n",
    "指定每个权重参数应该从均值为0、标准差为0.01的正态分布中随机采样， 偏差参数将初始化为零。\\\n",
    "- net[0]选择网络中的第一个图层 \n",
    "- weight.data和bias.data方法访问参数 \n",
    "- 使用替换方法normal_和fill_来重写参数值\n",
    "\n"
   ]
  },
  {
   "cell_type": "code",
   "execution_count": 7,
   "metadata": {},
   "outputs": [
    {
     "data": {
      "text/plain": [
       "tensor([0.])"
      ]
     },
     "execution_count": 7,
     "metadata": {},
     "output_type": "execute_result"
    }
   ],
   "source": [
    "net[0].weight.data.normal_(0, 0.01)\n",
    "net[0].bias.data.fill_(0)"
   ]
  },
  {
   "cell_type": "markdown",
   "metadata": {},
   "source": [
    "## 3.6 定义损失函数"
   ]
  },
  {
   "cell_type": "code",
   "execution_count": 8,
   "metadata": {},
   "outputs": [],
   "source": [
    "loss = nn.MSELoss()  # 均方误差"
   ]
  },
  {
   "cell_type": "markdown",
   "metadata": {},
   "source": [
    "## 3.7 定义优化算法"
   ]
  },
  {
   "cell_type": "code",
   "execution_count": 10,
   "metadata": {},
   "outputs": [],
   "source": [
    "trainer = torch.optim.SGD(net.parameters(), lr=0.03) #要指定优化的参数 （可通过net.parameters()从我们的模型中获得）以及优化算法所需的超参数字典。 小批量随机梯度下降只需要设置lr值，这里设置为0.03。"
   ]
  },
  {
   "cell_type": "markdown",
   "metadata": {},
   "source": [
    "## 3.8 训练模型 "
   ]
  },
  {
   "cell_type": "code",
   "execution_count": 11,
   "metadata": {},
   "outputs": [
    {
     "name": "stdout",
     "output_type": "stream",
     "text": [
      "epoch 1, loss 0.000241\n",
      "epoch 2, loss 0.000103\n",
      "epoch 3, loss 0.000102\n"
     ]
    }
   ],
   "source": [
    "num_epochs = 3       # 迭代周期\n",
    "for epoch in range(num_epochs): \n",
    "    for X, y in data_iter:      # 完整遍历一次数据集（train_data）,不停地从中获取一个小批量的输入X和相应的标签y\n",
    "        l = loss(net(X) ,y)     # 通过调用net(X)生成预测并计算损失l（前向传播）\n",
    "        trainer.zero_grad()     # 梯度清零\n",
    "        l.backward()            # 通过进行反向传播来计算梯度\n",
    "        trainer.step()          # 通过调用优化器来更新模型参数 \n",
    "    l = loss(net(features), labels) \n",
    "    print(f'epoch {epoch + 1}, loss {l:f}')"
   ]
  },
  {
   "cell_type": "markdown",
   "metadata": {},
   "source": [
    "比较生成数据集的真实参数和通过有限数据训练获得的模型参数，首先从net访问所需的层，然后读取该层的权重和偏置。"
   ]
  },
  {
   "cell_type": "code",
   "execution_count": 12,
   "metadata": {},
   "outputs": [
    {
     "name": "stdout",
     "output_type": "stream",
     "text": [
      "w的估计误差： tensor([-0.0001,  0.0003])\n",
      "b的估计误差： tensor([-0.0003])\n"
     ]
    }
   ],
   "source": [
    "w = net[0].weight.data\n",
    "print('w的估计误差:', true_w - w.reshape(true_w.shape))\n",
    "b = net[0].bias.data\n",
    "print('b的估计误差:', true_b - b)"
   ]
  }
 ],
 "metadata": {
  "kernelspec": {
   "display_name": "Python 3",
   "language": "python",
   "name": "python3"
  },
  "language_info": {
   "codemirror_mode": {
    "name": "ipython",
    "version": 3
   },
   "file_extension": ".py",
   "mimetype": "text/x-python",
   "name": "python",
   "nbconvert_exporter": "python",
   "pygments_lexer": "ipython3",
   "version": "3.7.0"
  },
  "vscode": {
   "interpreter": {
    "hash": "0747f93ff6db21b2db2bf35ad4858dd0825b9c21797c41b4cc32097944ab3f10"
   }
  }
 },
 "nbformat": 4,
 "nbformat_minor": 2
}
